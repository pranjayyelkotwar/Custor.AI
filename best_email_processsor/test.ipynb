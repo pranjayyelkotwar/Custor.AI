{
 "cells": [
  {
   "cell_type": "code",
   "execution_count": 1,
   "metadata": {},
   "outputs": [
    {
     "name": "stderr",
     "output_type": "stream",
     "text": [
      "2025-01-19 15:17:46,057 - numexpr.utils - INFO - NumExpr defaulting to 8 threads.\n"
     ]
    }
   ],
   "source": [
    "import schedule\n",
    "import time\n",
    "from email_processor.email.reader import EmailReader\n",
    "from email_processor.llm.processor import LLMProcessor\n",
    "from email_processor.database.repository import DatabaseRepository\n",
    "\n",
    "\n",
    "class EmailProcessor:\n",
    "    \"\"\"Class to handle email processing using LLM and database operations.\"\"\"\n",
    "\n",
    "    def __init__(self):\n",
    "        \"\"\"Initialize the EmailProcessor with EmailReader, LLMProcessor, and DatabaseRepository.\"\"\"\n",
    "        self.reader = EmailReader()\n",
    "        self.llm = LLMProcessor()\n",
    "        self.db = DatabaseRepository()\n",
    "        if not self.reader.connect():\n",
    "            print(\"Failed to connect to the email server.\")\n",
    "            return\n",
    "\n",
    "    def process_one_email(self):\n",
    "        \"\"\"\n",
    "        Fetch one email, process it using the LLM, and store it in the database.\n",
    "        \"\"\"\n",
    "\n",
    "        print(\"Connected to email server.\")\n",
    "        print(\"Fetching emails...\")\n",
    "        emails = self.reader.fetch_emails(count=1)  # Fetch one email\n",
    "        if not emails:\n",
    "            print(\"No emails fetched.\")\n",
    "            return\n",
    "\n",
    "        print(\"Processing email...\")\n",
    "        email_data = emails[0]  # Process the first email\n",
    "        processed_data = self.llm.process(email_data)  # Process email using LLM\n",
    "        print(\"Inserting processed email into the database...\")\n",
    "        self.db.insert_processed_email(processed_data)  # Insert into database\n",
    "        print(\"Email processed and stored successfully.\")\n",
    "\n",
    "    def run_scheduled(self, interval_minutes=60):\n",
    "        \"\"\"\n",
    "        Run the email processing task on a scheduled basis.\n",
    "        :param interval_minutes: Interval in minutes for scheduling the task.\n",
    "        \"\"\"\n",
    "        schedule.every(interval_minutes).minutes.do(self.process_one_email)\n",
    "        print(f\"Scheduled email processing to run every {interval_minutes} minutes.\")\n",
    "\n",
    "        while True:\n",
    "            schedule.run_pending()\n",
    "            time.sleep(1)"
   ]
  },
  {
   "cell_type": "code",
   "execution_count": 2,
   "metadata": {},
   "outputs": [
    {
     "name": "stdout",
     "output_type": "stream",
     "text": [
      "Connected to email server.\n",
      "Fetching emails...\n",
      "Processing email...\n",
      "Raw API Response: ```json\n",
      "{\n",
      "  \"junk\": false,\n",
      "  \"product_issue\": false,\n",
      "  \"personal_issue\": false,\n",
      "  \"delivery_issue\": false,\n",
      "  \"payment_issue\": false,\n",
      "  \"priority\": 2\n",
      "}\n",
      "```\n",
      "Inserting processed email into the database...\n",
      "Email processed and stored successfully.\n"
     ]
    }
   ],
   "source": [
    "processor = EmailProcessor()\n",
    "processor.process_one_email()\n"
   ]
  },
  {
   "cell_type": "code",
   "execution_count": 3,
   "metadata": {},
   "outputs": [
    {
     "name": "stdout",
     "output_type": "stream",
     "text": [
      "Connected to email server.\n",
      "Fetching emails...\n"
     ]
    },
    {
     "name": "stderr",
     "output_type": "stream",
     "text": [
      "/opt/homebrew/Caskroom/miniconda/base/envs/jane_street/lib/python3.12/email/_header_value_parser.py:140: RuntimeWarning: coroutine 'async_generator_to_list' was never awaited\n",
      "  return sum((x.all_defects for x in self), self.defects)\n",
      "RuntimeWarning: Enable tracemalloc to get the object allocation traceback\n"
     ]
    },
    {
     "name": "stdout",
     "output_type": "stream",
     "text": [
      "Processing email...\n",
      "Raw API Response: ```json\n",
      "{\n",
      "  \"junk\": true,\n",
      "  \"product_issue\": false,\n",
      "  \"personal_issue\": true,\n",
      "  \"delivery_issue\": false,\n",
      "  \"payment_issue\": false,\n",
      "  \"priority\": 3\n",
      "}\n",
      "```\n",
      "Inserting processed email into the database...\n",
      "Existing email found.\n",
      "Email processed and stored successfully.\n"
     ]
    }
   ],
   "source": [
    "proc2 = EmailProcessor()\n",
    "proc2.process_one_email()"
   ]
  },
  {
   "cell_type": "code",
   "execution_count": null,
   "metadata": {},
   "outputs": [],
   "source": []
  }
 ],
 "metadata": {
  "kernelspec": {
   "display_name": "jane_street",
   "language": "python",
   "name": "python3"
  },
  "language_info": {
   "codemirror_mode": {
    "name": "ipython",
    "version": 3
   },
   "file_extension": ".py",
   "mimetype": "text/x-python",
   "name": "python",
   "nbconvert_exporter": "python",
   "pygments_lexer": "ipython3",
   "version": "3.12.8"
  }
 },
 "nbformat": 4,
 "nbformat_minor": 2
}
